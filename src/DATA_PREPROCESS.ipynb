{
 "cells": [
  {
   "cell_type": "markdown",
   "id": "48c5bb54",
   "metadata": {},
   "source": [
    "# Data Preprocessing"
   ]
  },
  {
   "cell_type": "markdown",
   "id": "ff37bd92",
   "metadata": {},
   "source": [
    "In the previous notebook we collected all of our batter and pitcher stats and broke them down into per pitch events. This notebook will make sure that all of this data is processed properly so that it is ready to be fed to our machine learning models."
   ]
  },
  {
   "cell_type": "code",
   "execution_count": null,
   "id": "2231e27b",
   "metadata": {},
   "outputs": [],
   "source": [
    "import pandas as pd"
   ]
  }
 ],
 "metadata": {
  "kernelspec": {
   "display_name": ".venv",
   "language": "python",
   "name": "python3"
  },
  "language_info": {
   "name": "python",
   "version": "3.10.16"
  }
 },
 "nbformat": 4,
 "nbformat_minor": 5
}
