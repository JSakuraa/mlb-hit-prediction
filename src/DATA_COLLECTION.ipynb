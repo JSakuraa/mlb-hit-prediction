{
 "cells": [
  {
   "cell_type": "code",
   "execution_count": 9,
   "id": "f2f24a44",
   "metadata": {},
   "outputs": [],
   "source": [
    "import pandas as pd\n",
    "import numpy as np\n",
    "from pybaseball import statcast, playerid_lookup, batting_stats, pitching_stats_range, schedule_and_record\n",
    "from tqdm.notebook import tqdm\n",
    "import warnings\n",
    "warnings.filterwarnings(\"ignore\")"
   ]
  },
  {
   "cell_type": "code",
   "execution_count": 10,
   "id": "8791f548",
   "metadata": {},
   "outputs": [],
   "source": [
    "YEAR = 2024\n",
    "MIN_PA = 100\n",
    "START_DATE = f\"{YEAR}-03-20\"\n",
    "END_DATE = f\"{YEAR}-10-15\"\n",
    "TEAM = \"BOS\""
   ]
  },
  {
   "cell_type": "code",
   "execution_count": 21,
   "id": "7af1e184",
   "metadata": {},
   "outputs": [],
   "source": [
    "def get_qualified_team_batters(year=YEAR, min_pa=MIN_PA, team=TEAM):\n",
    "    print(f\"Fetching {team} batters with > {min_pa} PA in {year}...\")\n",
    "\n",
    "    batting_stats_2024 = batting_stats(year, qual=min_pa)\n",
    "\n",
    "    team_batters = batting_stats_2024[batting_stats_2024[\"Team\"] == team]\n",
    "    \n",
    "    return team_batters[[\"Name\", \"IDfg\", \"PA\", \"AVG\", \"OBP\", \"SLG\"]]"
   ]
  },
  {
   "cell_type": "code",
   "execution_count": 22,
   "id": "7eec8695",
   "metadata": {},
   "outputs": [
    {
     "name": "stdout",
     "output_type": "stream",
     "text": [
      "Fetching BOS batters with > 100 PA in 2024...\n",
      "Found 15 qualified BOS batters\n"
     ]
    },
    {
     "data": {
      "text/html": [
       "<div>\n",
       "<style scoped>\n",
       "    .dataframe tbody tr th:only-of-type {\n",
       "        vertical-align: middle;\n",
       "    }\n",
       "\n",
       "    .dataframe tbody tr th {\n",
       "        vertical-align: top;\n",
       "    }\n",
       "\n",
       "    .dataframe thead th {\n",
       "        text-align: right;\n",
       "    }\n",
       "</style>\n",
       "<table border=\"1\" class=\"dataframe\">\n",
       "  <thead>\n",
       "    <tr style=\"text-align: right;\">\n",
       "      <th></th>\n",
       "      <th>Name</th>\n",
       "      <th>IDfg</th>\n",
       "      <th>PA</th>\n",
       "      <th>AVG</th>\n",
       "      <th>OBP</th>\n",
       "      <th>SLG</th>\n",
       "    </tr>\n",
       "  </thead>\n",
       "  <tbody>\n",
       "    <tr>\n",
       "      <th>41</th>\n",
       "      <td>Jarren Duran</td>\n",
       "      <td>24617</td>\n",
       "      <td>735</td>\n",
       "      <td>0.285</td>\n",
       "      <td>0.342</td>\n",
       "      <td>0.492</td>\n",
       "    </tr>\n",
       "    <tr>\n",
       "      <th>30</th>\n",
       "      <td>Rafael Devers</td>\n",
       "      <td>17350</td>\n",
       "      <td>601</td>\n",
       "      <td>0.272</td>\n",
       "      <td>0.354</td>\n",
       "      <td>0.516</td>\n",
       "    </tr>\n",
       "    <tr>\n",
       "      <th>84</th>\n",
       "      <td>Wilyer Abreu</td>\n",
       "      <td>23772</td>\n",
       "      <td>447</td>\n",
       "      <td>0.253</td>\n",
       "      <td>0.322</td>\n",
       "      <td>0.459</td>\n",
       "    </tr>\n",
       "    <tr>\n",
       "      <th>35</th>\n",
       "      <td>Tyler O'Neill</td>\n",
       "      <td>15711</td>\n",
       "      <td>473</td>\n",
       "      <td>0.241</td>\n",
       "      <td>0.336</td>\n",
       "      <td>0.511</td>\n",
       "    </tr>\n",
       "    <tr>\n",
       "      <th>214</th>\n",
       "      <td>David Hamilton</td>\n",
       "      <td>27531</td>\n",
       "      <td>317</td>\n",
       "      <td>0.248</td>\n",
       "      <td>0.303</td>\n",
       "      <td>0.395</td>\n",
       "    </tr>\n",
       "  </tbody>\n",
       "</table>\n",
       "</div>"
      ],
      "text/plain": [
       "               Name   IDfg   PA    AVG    OBP    SLG\n",
       "41     Jarren Duran  24617  735  0.285  0.342  0.492\n",
       "30    Rafael Devers  17350  601  0.272  0.354  0.516\n",
       "84     Wilyer Abreu  23772  447  0.253  0.322  0.459\n",
       "35    Tyler O'Neill  15711  473  0.241  0.336  0.511\n",
       "214  David Hamilton  27531  317  0.248  0.303  0.395"
      ]
     },
     "execution_count": 22,
     "metadata": {},
     "output_type": "execute_result"
    }
   ],
   "source": [
    "qualified_batters = get_qualified_team_batters()\n",
    "print(f\"Found {len(qualified_batters)} qualified {TEAM} batters\")\n",
    "qualified_batters.head()"
   ]
  },
  {
   "cell_type": "code",
   "execution_count": null,
   "id": "fcbe2f94",
   "metadata": {},
   "outputs": [],
   "source": [
    "from pybaseball import statcast_batter\n",
    "\n",
    "def get_player_game_data(player_id, player_name, start_date, end_date):\n",
    "    player_data = statcast_batter(start_dt=start_date, end_dt=end_date, player_id=player_id)\n",
    "\n",
    "    player_batting = player_data[player_data[\"batter\"] == player_id].copy()\n",
    "\n",
    "    player_batting[\"player_name\"] = player_name\n",
    "\n",
    "    return player_batting\n",
    "\n",
    "def collect_all_player_data(qualified_batters, start_date, end_date):\n",
    "    all_player_data = []\n",
    "\n",
    "    for _, player in tqdm(qualified_batters.iterrows(), total=len(qualified_batters), des=\"Processing players\"):\n",
    "        print(f\"Fetching data for {player[\"Name\"]}...\")\n",
    "        player_data = get_player_game_data(player)"
   ]
  }
 ],
 "metadata": {
  "kernelspec": {
   "display_name": ".venv",
   "language": "python",
   "name": "python3"
  },
  "language_info": {
   "codemirror_mode": {
    "name": "ipython",
    "version": 3
   },
   "file_extension": ".py",
   "mimetype": "text/x-python",
   "name": "python",
   "nbconvert_exporter": "python",
   "pygments_lexer": "ipython3",
   "version": "3.10.16"
  }
 },
 "nbformat": 4,
 "nbformat_minor": 5
}
